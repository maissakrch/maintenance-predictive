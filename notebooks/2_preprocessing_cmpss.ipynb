{
 "cells": [
  {
   "cell_type": "code",
   "execution_count": 1,
   "id": "149e20bb",
   "metadata": {},
   "outputs": [
    {
     "name": "stdout",
     "output_type": "stream",
     "text": [
      "Capteurs supprimés car constants : ['sensor_1', 'sensor_10', 'sensor_18', 'sensor_19']\n",
      "✅ Données nettoyées enregistrées dans data/cleaned/train_FD001_cleaned.csv\n"
     ]
    }
   ],
   "source": [
    "\n",
    "import pandas as pd\n",
    "import numpy as np\n",
    "import os\n",
    "from sklearn.preprocessing import MinMaxScaler\n",
    "\n",
    "# Chargement des données\n",
    "cols = ['unit', 'cycle', 'op_setting_1', 'op_setting_2', 'op_setting_3'] + \\\n",
    "       [f'sensor_{i}' for i in range(1, 22)]\n",
    "\n",
    "df = pd.read_csv('../data/raw/train_FD001.txt', sep='\\s+', header=None)\n",
    "df.columns = cols\n",
    "\n",
    "# Calcul du RUL\n",
    "rul_df = df.groupby('unit')['cycle'].max().reset_index()\n",
    "rul_df.columns = ['unit', 'max_cycle']\n",
    "df = df.merge(rul_df, on='unit')\n",
    "df['RUL'] = df['max_cycle'] - df['cycle']\n",
    "\n",
    "# Supprimer les capteurs constants (std = 0)\n",
    "sensors = [col for col in df.columns if col.startswith('sensor_')]\n",
    "constant_sensors = [col for col in sensors if df[col].std() == 0.0]\n",
    "df.drop(columns=constant_sensors, inplace=True)\n",
    "print(f\"Capteurs supprimés car constants : {constant_sensors}\")\n",
    "\n",
    "# Normalisation des capteurs restants\n",
    "remaining_sensors = [col for col in df.columns if col.startswith('sensor_')]\n",
    "scaler = MinMaxScaler()\n",
    "df[remaining_sensors] = scaler.fit_transform(df[remaining_sensors])\n",
    "\n",
    "# Enregistrement dans data/cleaned\n",
    "os.makedirs('../data/cleaned', exist_ok=True)\n",
    "df.to_csv('../data/cleaned/train_FD001_cleaned.csv', index=False)\n",
    "print(\"✅ Données nettoyées enregistrées dans data/cleaned/train_FD001_cleaned.csv\")\n"
   ]
  },
  {
   "cell_type": "code",
   "execution_count": 3,
   "id": "42ac9523-3a0e-49a6-97eb-8d3d1edc3b31",
   "metadata": {},
   "outputs": [
    {
     "name": "stdout",
     "output_type": "stream",
     "text": [
      "Requirement already satisfied: scikit-learn in /Users/maissa/Documents/maintenance-predictive/venv/lib/python3.11/site-packages (1.7.1)\n",
      "Requirement already satisfied: numpy>=1.22.0 in /Users/maissa/Documents/maintenance-predictive/venv/lib/python3.11/site-packages (from scikit-learn) (2.3.1)\n",
      "Requirement already satisfied: scipy>=1.8.0 in /Users/maissa/Documents/maintenance-predictive/venv/lib/python3.11/site-packages (from scikit-learn) (1.16.0)\n",
      "Requirement already satisfied: joblib>=1.2.0 in /Users/maissa/Documents/maintenance-predictive/venv/lib/python3.11/site-packages (from scikit-learn) (1.5.1)\n",
      "Requirement already satisfied: threadpoolctl>=3.1.0 in /Users/maissa/Documents/maintenance-predictive/venv/lib/python3.11/site-packages (from scikit-learn) (3.6.0)\n",
      "\n",
      "\u001b[1m[\u001b[0m\u001b[34;49mnotice\u001b[0m\u001b[1;39;49m]\u001b[0m\u001b[39;49m A new release of pip is available: \u001b[0m\u001b[31;49m23.2.1\u001b[0m\u001b[39;49m -> \u001b[0m\u001b[32;49m25.1.1\u001b[0m\n",
      "\u001b[1m[\u001b[0m\u001b[34;49mnotice\u001b[0m\u001b[1;39;49m]\u001b[0m\u001b[39;49m To update, run: \u001b[0m\u001b[32;49mpip install --upgrade pip\u001b[0m\n",
      "Note: you may need to restart the kernel to use updated packages.\n"
     ]
    }
   ],
   "source": [
    "pip install scikit-learn\n"
   ]
  },
  {
   "cell_type": "code",
   "execution_count": null,
   "id": "8bbed917-9d2a-455f-a407-52ea89421d1a",
   "metadata": {},
   "outputs": [],
   "source": []
  }
 ],
 "metadata": {
  "kernelspec": {
   "display_name": ".venv",
   "language": "python",
   "name": "python3"
  },
  "language_info": {
   "codemirror_mode": {
    "name": "ipython",
    "version": 3
   },
   "file_extension": ".py",
   "mimetype": "text/x-python",
   "name": "python",
   "nbconvert_exporter": "python",
   "pygments_lexer": "ipython3",
   "version": "3.11.5"
  }
 },
 "nbformat": 4,
 "nbformat_minor": 5
}
