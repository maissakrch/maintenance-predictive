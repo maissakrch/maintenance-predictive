{
 "cells": [
  {
   "cell_type": "code",
   "execution_count": 1,
   "id": "0dfdb9b7-123e-4fcd-b3a0-15772362226d",
   "metadata": {},
   "outputs": [
    {
     "name": "stdout",
     "output_type": "stream",
     "text": [
      "✅ Données prêtes pour l'entraînement\n"
     ]
    }
   ],
   "source": [
    "import pandas as pd\n",
    "import numpy as np\n",
    "from sklearn.ensemble import RandomForestRegressor\n",
    "from sklearn.model_selection import train_test_split\n",
    "from sklearn.metrics import mean_absolute_error, mean_squared_error\n",
    "import joblib\n",
    "import os\n",
    "\n",
    "# Charger les données nettoyées\n",
    "df = pd.read_csv(\"../data/cleaned/train_FD001_cleaned.csv\")\n",
    "\n",
    "# Séparer features et cible\n",
    "X = df.drop(columns=[\"RUL\", \"unit\", \"cycle\", \"max_cycle\"])\n",
    "y = df[\"RUL\"]\n",
    "\n",
    "# Séparation train/test\n",
    "X_train, X_test, y_train, y_test = train_test_split(X, y, test_size=0.2, random_state=42)\n",
    "\n",
    "print(\"✅ Données prêtes pour l'entraînement\")\n"
   ]
  },
  {
   "cell_type": "code",
   "execution_count": 2,
   "id": "bfc41f54-5b60-4922-99c6-50dc01f43da3",
   "metadata": {},
   "outputs": [
    {
     "name": "stdout",
     "output_type": "stream",
     "text": [
      "✅ Modèle entraîné\n"
     ]
    }
   ],
   "source": [
    "# Initialisation du modèle\n",
    "model = RandomForestRegressor(n_estimators=100, random_state=42)\n",
    "\n",
    "# Entraînement\n",
    "model.fit(X_train, y_train)\n",
    "\n",
    "print(\"✅ Modèle entraîné\")\n"
   ]
  },
  {
   "cell_type": "code",
   "execution_count": 3,
   "id": "117f2ced-73ef-46bc-9b00-522b0eba53c5",
   "metadata": {},
   "outputs": [
    {
     "name": "stdout",
     "output_type": "stream",
     "text": [
      "MAE : 29.61\n",
      "RMSE : 41.44\n"
     ]
    }
   ],
   "source": [
    "# Prédictions\n",
    "y_pred = model.predict(X_test)\n",
    "\n",
    "# Évaluation\n",
    "mae = mean_absolute_error(y_test, y_pred)\n",
    "rmse = np.sqrt(mean_squared_error(y_test, y_pred))\n",
    "\n",
    "print(f\"MAE : {mae:.2f}\")\n",
    "print(f\"RMSE : {rmse:.2f}\")\n"
   ]
  },
  {
   "cell_type": "code",
   "execution_count": 4,
   "id": "fe066c30-e4ec-4d03-a6cd-e94a2c3f6889",
   "metadata": {},
   "outputs": [
    {
     "name": "stdout",
     "output_type": "stream",
     "text": [
      "✅ Modèle sauvegardé dans models/random_forest_rul.pkl\n"
     ]
    }
   ],
   "source": [
    "# Créer le dossier si besoin\n",
    "os.makedirs(\"../models/\", exist_ok=True)\n",
    "\n",
    "# Sauvegarder le modèle entraîné\n",
    "joblib.dump(model, \"../models/random_forest_rul.pkl\")\n",
    "\n",
    "print(\"✅ Modèle sauvegardé dans models/random_forest_rul.pkl\")\n"
   ]
  },
  {
   "cell_type": "code",
   "execution_count": null,
   "id": "53f1f2ca-a3f6-4a43-a076-95073417ab76",
   "metadata": {},
   "outputs": [],
   "source": []
  }
 ],
 "metadata": {
  "kernelspec": {
   "display_name": "Python 3 (ipykernel)",
   "language": "python",
   "name": "python3"
  },
  "language_info": {
   "codemirror_mode": {
    "name": "ipython",
    "version": 3
   },
   "file_extension": ".py",
   "mimetype": "text/x-python",
   "name": "python",
   "nbconvert_exporter": "python",
   "pygments_lexer": "ipython3",
   "version": "3.11.5"
  }
 },
 "nbformat": 4,
 "nbformat_minor": 5
}
